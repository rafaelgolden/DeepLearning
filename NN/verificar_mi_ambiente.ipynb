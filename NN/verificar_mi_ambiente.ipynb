{
 "cells": [
  {
   "cell_type": "code",
   "execution_count": null,
   "metadata": {},
   "outputs": [],
   "source": [
    "from keras.datasets import mnist\n",
    "from keras.models import Sequential\n",
    "from keras.layers.core import Dense, Dropout, Activation \n",
    "from keras import optimizers\n",
    "from keras.callbacks import ModelCheckpoint\n",
    "import matplotlib.pyplot as plt \n",
    "\n",
    "import numpy as np   \n",
    "(X, y), (Xtest, ytest) = mnist.load_data()"
   ]
  },
  {
   "cell_type": "code",
   "execution_count": null,
   "metadata": {},
   "outputs": [],
   "source": [
    "# Visualizar algunas imagenes de la base de datos\n",
    "plt.figure(figsize = (7,7))\n",
    "for i in range(10):\n",
    "    index = np.where(y == i)\n",
    "    index = index[0][np.random.randint(index[0].shape[0], size=10)]\n",
    "    for j in range(10):\n",
    "        plt.subplot(10,10,i*10+j+1)\n",
    "        plt.imshow(X[index[j]], cmap='gray', interpolation='none')\n",
    "        plt.axis('off')\n",
    "plt.show()"
   ]
  },
  {
   "cell_type": "code",
   "execution_count": null,
   "metadata": {},
   "outputs": [],
   "source": []
  }
 ],
 "metadata": {
  "kernelspec": {
   "display_name": "Python 3",
   "language": "python",
   "name": "python3"
  },
  "language_info": {
   "codemirror_mode": {
    "name": "ipython",
    "version": 3
   },
   "file_extension": ".py",
   "mimetype": "text/x-python",
   "name": "python",
   "nbconvert_exporter": "python",
   "pygments_lexer": "ipython3",
   "version": "3.6.0"
  },
  "widgets": {
   "state": {},
   "version": "1.1.2"
  }
 },
 "nbformat": 4,
 "nbformat_minor": 2
}
